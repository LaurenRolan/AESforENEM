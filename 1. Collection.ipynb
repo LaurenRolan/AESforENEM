{
 "cells": [
  {
   "cell_type": "markdown",
   "id": "8ac60fc0",
   "metadata": {},
   "source": [
    "## Collection\n",
    "Gathers all essays from the [UOL site](https://educacao.uol.com.br/bancoderedacoes/).\n"
   ]
  },
  {
   "cell_type": "code",
   "execution_count": 1,
   "id": "b7ca5ef9",
   "metadata": {},
   "outputs": [],
   "source": [
    "from selenium import webdriver\n",
    "from selenium.webdriver.common.by import By\n",
    "from selenium.webdriver.support import expected_conditions as EC\n",
    "from bs4 import BeautifulSoup\n",
    "import pandas as pd\n",
    "from time import sleep"
   ]
  },
  {
   "cell_type": "code",
   "execution_count": 2,
   "id": "7650b161",
   "metadata": {},
   "outputs": [],
   "source": [
    "driver = webdriver.Chrome()"
   ]
  },
  {
   "cell_type": "code",
   "execution_count": 3,
   "id": "1d23462f",
   "metadata": {},
   "outputs": [],
   "source": [
    "driver.get('https://educacao.uol.com.br/bancoderedacoes/')"
   ]
  },
  {
   "cell_type": "code",
   "execution_count": 4,
   "id": "3dd6c3b9",
   "metadata": {},
   "outputs": [],
   "source": [
    "button_more = True\n",
    "thumbnails = []\n",
    "while button_more:\n",
    "    driver.execute_script(\"window.scrollTo(0, document.body.scrollHeight);\")\n",
    "    sleep(2)\n",
    "    try:\n",
    "        driver.find_element(By.CLASS_NAME, 'ver-mais').click()\n",
    "        sleep(1)\n",
    "    except:\n",
    "        button_more = False\n",
    "sleep(2)\n"
   ]
  },
  {
   "cell_type": "code",
   "execution_count": 5,
   "id": "a9c901ac",
   "metadata": {},
   "outputs": [],
   "source": [
    "content = driver.page_source\n",
    "soup = BeautifulSoup(content)\n",
    "thumbnails.append(soup.findAll('div', attrs={'class':'thumbnails-wrapper'}))"
   ]
  },
  {
   "cell_type": "code",
   "execution_count": 6,
   "id": "9206856a",
   "metadata": {},
   "outputs": [
    {
     "data": {
      "text/plain": [
       "55"
      ]
     },
     "execution_count": 6,
     "metadata": {},
     "output_type": "execute_result"
    }
   ],
   "source": [
    "flat_list = [item for sublist in thumbnails for item in sublist]\n",
    "len(flat_list)"
   ]
  },
  {
   "cell_type": "code",
   "execution_count": 7,
   "id": "58f19996",
   "metadata": {},
   "outputs": [],
   "source": [
    "links = []\n",
    "for thumbnail in flat_list:\n",
    "    links.append(thumbnail.find('a')['href'])"
   ]
  },
  {
   "cell_type": "code",
   "execution_count": 8,
   "id": "07a2d449",
   "metadata": {},
   "outputs": [
    {
     "data": {
      "text/plain": [
       "['https://educacao.uol.com.br/bancoderedacoes/propostas/qualificacao-e-o-futuro-do-emprego.htm',\n",
       " 'https://educacao.uol.com.br/bancoderedacoes/propostas/supremo-tribunal-federal-e-opiniao-publica.htm',\n",
       " 'https://educacao.uol.com.br/bancoderedacoes/propostas/ciencia-tecnologia-e-superacao-dos-limites-humanos.htm',\n",
       " 'https://educacao.uol.com.br/bancoderedacoes/propostas/um-reu-deve-ou-nao-ser-preso-apos-a-condenacao-em-2-instancia.htm',\n",
       " 'https://educacao.uol.com.br/bancoderedacoes/propostas/agrotoxicos-ou-defensivos-agricolas-dois-nomes-e-uma-polemica.htm',\n",
       " 'https://educacao.uol.com.br/bancoderedacoes/propostas/preservacao-da-amazonia-desafio-brasileiro-ou-internacional.htm',\n",
       " 'https://educacao.uol.com.br/bancoderedacoes/propostas/criptomoeda-tecnologia-e-revolucao-economica.htm',\n",
       " 'https://educacao.uol.com.br/bancoderedacoes/propostas/a-ciencia-na-era-da-pos-verdade.htm',\n",
       " 'https://educacao.uol.com.br/bancoderedacoes/propostas/universidade-em-crise-quem-paga-a-conta.htm',\n",
       " 'https://educacao.uol.com.br/bancoderedacoes/propostas/a-fe-e-decisiva-para-uma-vida-melhor.htm',\n",
       " 'https://educacao.uol.com.br/bancoderedacoes/propostas/os-ursos-polares-da-russia-e-um-dilema-ecologico.htm',\n",
       " 'https://educacao.uol.com.br/bancoderedacoes/propostas/cantar-ou-nao-cantar-o-hino-nacional-eis-a-questao.htm',\n",
       " 'https://educacao.uol.com.br/bancoderedacoes/propostas/posse-de-armas-mais-seguranca-ou-mais-perigo.htm',\n",
       " 'https://educacao.uol.com.br/bancoderedacoes/propostas/o-brasil-e-os-imigrantes-no-mundo-contemporaneo.htm',\n",
       " 'https://educacao.uol.com.br/bancoderedacoes/propostas/epidemia-alimentar-sobrepeso-e-obesidade.htm',\n",
       " 'https://educacao.uol.com.br/bancoderedacoes/propostas/a-onda-conservadora-e-o-brasil-nos-proximos-anos.htm',\n",
       " 'https://educacao.uol.com.br/bancoderedacoes/propostas/patrimonio-historico-e-cultural-brasileiro-um-caso-de-descaso.htm',\n",
       " 'https://educacao.uol.com.br/bancoderedacoes/propostas/direitos-humanos-em-defesa-de-quem.htm',\n",
       " 'https://educacao.uol.com.br/bancoderedacoes/propostas/redes-sociais-e-manipulacao-politica.htm',\n",
       " 'https://educacao.uol.com.br/bancoderedacoes/propostas/por-que-os-jovens-querem-deixar-o-brasil.htm',\n",
       " 'https://educacao.uol.com.br/bancoderedacoes/propostas/o-brasil-paralisado-o-que-voce-pensa-sobre-a-greve-dos-caminhoneiros.htm',\n",
       " 'https://educacao.uol.com.br/bancoderedacoes/propostas/o-direito-ao-foro-privilegiado.htm',\n",
       " 'https://educacao.uol.com.br/bancoderedacoes/propostas/informacao-no-rotulo-de-produtos-transgenicos.htm',\n",
       " 'https://educacao.uol.com.br/bancoderedacoes/propostas/violencia-e-drogas-o-papel-do-usuario.htm',\n",
       " 'https://educacao.uol.com.br/bancoderedacoes/propostas/pena-de-morte-o-brasil-deve-adota-la-por-que.htm',\n",
       " 'https://educacao.uol.com.br/bancoderedacoes/propostas/a-arte-tem-o-direito-de-questionar-tudo.htm',\n",
       " 'https://educacao.uol.com.br/bancoderedacoes/propostas/as-redes-sociais-ajudam-ou-dificultam-as-relacoes-entre-as-pessoas.htm',\n",
       " 'https://educacao.uol.com.br/bancoderedacoes/propostas/delacao-premiada-justica-injustica-ou-traicao.htm',\n",
       " 'https://educacao.uol.com.br/bancoderedacoes/propostas/a-terapia-de-reversao-da-orientacao-sexual.htm',\n",
       " 'https://educacao.uol.com.br/bancoderedacoes/propostas/como-melhorar-a-educacao-sem-valorizar-o-professor.htm',\n",
       " 'https://educacao.uol.com.br/bancoderedacoes/propostas/brasileiros-tem-pessima-educacao-argumentativa-segundo-cientista.htm',\n",
       " 'https://educacao.uol.com.br/bancoderedacoes/propostas/por-que-nao-ha-novas-manifestacoes-nas-ruas.htm',\n",
       " 'https://educacao.uol.com.br/bancoderedacoes/propostas/internacao-compulsoria-de-dependentes-de-crack.htm',\n",
       " 'https://educacao.uol.com.br/bancoderedacoes/propostas/perigos-do-universo-digital.htm',\n",
       " 'https://educacao.uol.com.br/bancoderedacoes/propostas/terceirizacao-avanco-ou-retrocesso.htm',\n",
       " 'https://educacao.uol.com.br/bancoderedacoes/propostas/direitos-em-conflito-liberdade-de-expressao-e-intimidade.htm',\n",
       " 'https://educacao.uol.com.br/bancoderedacoes/propostas/e-preferivel-praticar-ou-sofrer-uma-injustica.htm',\n",
       " 'https://educacao.uol.com.br/bancoderedacoes/propostas/somos-todos-corruptos.htm',\n",
       " 'https://educacao.uol.com.br/bancoderedacoes/propostas/pos-verdade-opiniao-publica-e-democracia.htm',\n",
       " 'https://educacao.uol.com.br/bancoderedacoes/propostas/filantropia-um-exemplo-a-ser-seguido.htm',\n",
       " 'https://educacao.uol.com.br/bancoderedacoes/propostas/artes-e-educacao-fisica-opcionais-ou-obrigatorias.htm',\n",
       " 'https://educacao.uol.com.br/bancoderedacoes/propostas/voce-faz-parte-da-turma-do-eu-me-acho.htm',\n",
       " 'https://educacao.uol.com.br/bancoderedacoes/propostas/escola-no-brasil-com-partido-ou-sem-partido.htm',\n",
       " 'https://educacao.uol.com.br/bancoderedacoes/propostas/escravizar-e-humano.htm',\n",
       " 'https://educacao.uol.com.br/bancoderedacoes/propostas/estupro-como-prevenir-esse-crime.htm',\n",
       " 'https://educacao.uol.com.br/bancoderedacoes/propostas/politica-x-ciencia-a-pilula-do-cancer.htm',\n",
       " 'https://educacao.uol.com.br/bancoderedacoes/propostas/impeachment-a-presidente-deve-perder-o-mandato.htm',\n",
       " 'https://educacao.uol.com.br/bancoderedacoes/propostas/carta-convite-discutir-discriminacao-na-escola.htm',\n",
       " 'https://educacao.uol.com.br/bancoderedacoes/propostas/a-tecnologia-e-a-eliminacao-de-empregos.htm',\n",
       " 'https://educacao.uol.com.br/bancoderedacoes/propostas/por-que-o-brasil-nao-consegue-vencer-o-aedes-aegypti.htm',\n",
       " 'https://educacao.uol.com.br/bancoderedacoes/propostas/forma-fisica-corpo-perfeito-e-consumismo.htm',\n",
       " 'https://educacao.uol.com.br/bancoderedacoes/propostas/disciplina-ordem-e-autoridade-favorecem-a-educacao.htm',\n",
       " 'https://educacao.uol.com.br/bancoderedacoes/propostas/o-sucesso-vem-da-escola-ou-do-esforco-individual.htm',\n",
       " 'https://educacao.uol.com.br/bancoderedacoes/propostas/bandido-bom-e-bandido-morto.htm',\n",
       " 'https://educacao.uol.com.br/bancoderedacoes/propostas/mariana-fatalidade-ou-negligencia.htm']"
      ]
     },
     "execution_count": 8,
     "metadata": {},
     "output_type": "execute_result"
    }
   ],
   "source": [
    "links = list(dict.fromkeys(links))\n",
    "links"
   ]
  },
  {
   "cell_type": "code",
   "execution_count": 9,
   "id": "ea154a8a",
   "metadata": {},
   "outputs": [
    {
     "data": {
      "text/plain": [
       "['https://educacao.uol.com.br/bancoderedacoes/propostas/qualificacao-e-o-futuro-do-emprego.htm',\n",
       " 'https://educacao.uol.com.br/bancoderedacoes/propostas/supremo-tribunal-federal-e-opiniao-publica.htm',\n",
       " 'https://educacao.uol.com.br/bancoderedacoes/propostas/ciencia-tecnologia-e-superacao-dos-limites-humanos.htm',\n",
       " 'https://educacao.uol.com.br/bancoderedacoes/propostas/um-reu-deve-ou-nao-ser-preso-apos-a-condenacao-em-2-instancia.htm',\n",
       " 'https://educacao.uol.com.br/bancoderedacoes/propostas/agrotoxicos-ou-defensivos-agricolas-dois-nomes-e-uma-polemica.htm',\n",
       " 'https://educacao.uol.com.br/bancoderedacoes/propostas/preservacao-da-amazonia-desafio-brasileiro-ou-internacional.htm',\n",
       " 'https://educacao.uol.com.br/bancoderedacoes/propostas/criptomoeda-tecnologia-e-revolucao-economica.htm',\n",
       " 'https://educacao.uol.com.br/bancoderedacoes/propostas/a-ciencia-na-era-da-pos-verdade.htm',\n",
       " 'https://educacao.uol.com.br/bancoderedacoes/propostas/universidade-em-crise-quem-paga-a-conta.htm',\n",
       " 'https://educacao.uol.com.br/bancoderedacoes/propostas/a-fe-e-decisiva-para-uma-vida-melhor.htm',\n",
       " 'https://educacao.uol.com.br/bancoderedacoes/propostas/os-ursos-polares-da-russia-e-um-dilema-ecologico.htm',\n",
       " 'https://educacao.uol.com.br/bancoderedacoes/propostas/cantar-ou-nao-cantar-o-hino-nacional-eis-a-questao.htm',\n",
       " 'https://educacao.uol.com.br/bancoderedacoes/propostas/posse-de-armas-mais-seguranca-ou-mais-perigo.htm',\n",
       " 'https://educacao.uol.com.br/bancoderedacoes/propostas/o-brasil-e-os-imigrantes-no-mundo-contemporaneo.htm',\n",
       " 'https://educacao.uol.com.br/bancoderedacoes/propostas/epidemia-alimentar-sobrepeso-e-obesidade.htm',\n",
       " 'https://educacao.uol.com.br/bancoderedacoes/propostas/a-onda-conservadora-e-o-brasil-nos-proximos-anos.htm',\n",
       " 'https://educacao.uol.com.br/bancoderedacoes/propostas/patrimonio-historico-e-cultural-brasileiro-um-caso-de-descaso.htm',\n",
       " 'https://educacao.uol.com.br/bancoderedacoes/propostas/direitos-humanos-em-defesa-de-quem.htm',\n",
       " 'https://educacao.uol.com.br/bancoderedacoes/propostas/redes-sociais-e-manipulacao-politica.htm',\n",
       " 'https://educacao.uol.com.br/bancoderedacoes/propostas/por-que-os-jovens-querem-deixar-o-brasil.htm',\n",
       " 'https://educacao.uol.com.br/bancoderedacoes/propostas/o-brasil-paralisado-o-que-voce-pensa-sobre-a-greve-dos-caminhoneiros.htm',\n",
       " 'https://educacao.uol.com.br/bancoderedacoes/propostas/o-direito-ao-foro-privilegiado.htm',\n",
       " 'https://educacao.uol.com.br/bancoderedacoes/propostas/informacao-no-rotulo-de-produtos-transgenicos.htm',\n",
       " 'https://educacao.uol.com.br/bancoderedacoes/propostas/violencia-e-drogas-o-papel-do-usuario.htm',\n",
       " 'https://educacao.uol.com.br/bancoderedacoes/propostas/pena-de-morte-o-brasil-deve-adota-la-por-que.htm',\n",
       " 'https://educacao.uol.com.br/bancoderedacoes/propostas/a-arte-tem-o-direito-de-questionar-tudo.htm',\n",
       " 'https://educacao.uol.com.br/bancoderedacoes/propostas/as-redes-sociais-ajudam-ou-dificultam-as-relacoes-entre-as-pessoas.htm',\n",
       " 'https://educacao.uol.com.br/bancoderedacoes/propostas/delacao-premiada-justica-injustica-ou-traicao.htm']"
      ]
     },
     "execution_count": 9,
     "metadata": {},
     "output_type": "execute_result"
    }
   ],
   "source": [
    "other_format_index = links.index('https://educacao.uol.com.br/bancoderedacoes/propostas/violencia-e-drogas-o-papel-do-usuario.htm')\n",
    "links = links[0:other_format_index]\n",
    "links"
   ]
  },
  {
   "cell_type": "code",
   "execution_count": 11,
   "id": "a6a5952e",
   "metadata": {},
   "outputs": [
    {
     "ename": "AttributeError",
     "evalue": "'NoneType' object has no attribute 'find'",
     "output_type": "error",
     "traceback": [
      "\u001b[1;31m---------------------------------------------------------------------------\u001b[0m",
      "\u001b[1;31mAttributeError\u001b[0m                            Traceback (most recent call last)",
      "Cell \u001b[1;32mIn[11], line 31\u001b[0m\n\u001b[0;32m     29\u001b[0m soup \u001b[38;5;241m=\u001b[39m BeautifulSoup(content)\n\u001b[0;32m     30\u001b[0m composition \u001b[38;5;241m=\u001b[39m soup\u001b[38;5;241m.\u001b[39mfind(\u001b[38;5;124m'\u001b[39m\u001b[38;5;124mdiv\u001b[39m\u001b[38;5;124m'\u001b[39m, attrs\u001b[38;5;241m=\u001b[39m{\u001b[38;5;124m'\u001b[39m\u001b[38;5;124mclass\u001b[39m\u001b[38;5;124m'\u001b[39m:\u001b[38;5;124m'\u001b[39m\u001b[38;5;124mcontainer-composition\u001b[39m\u001b[38;5;124m'\u001b[39m})\n\u001b[1;32m---> 31\u001b[0m title \u001b[38;5;241m=\u001b[39m \u001b[43mcomposition\u001b[49m\u001b[38;5;241;43m.\u001b[39;49m\u001b[43mfind\u001b[49m(\u001b[38;5;124m'\u001b[39m\u001b[38;5;124mh2\u001b[39m\u001b[38;5;124m'\u001b[39m)\u001b[38;5;241m.\u001b[39mtext\n\u001b[0;32m     32\u001b[0m original \u001b[38;5;241m=\u001b[39m copy\u001b[38;5;241m.\u001b[39mcopy(composition\u001b[38;5;241m.\u001b[39mfind(\u001b[38;5;124m'\u001b[39m\u001b[38;5;124mdiv\u001b[39m\u001b[38;5;124m'\u001b[39m, attrs\u001b[38;5;241m=\u001b[39m{\u001b[38;5;124m'\u001b[39m\u001b[38;5;124mclass\u001b[39m\u001b[38;5;124m'\u001b[39m:\u001b[38;5;124m'\u001b[39m\u001b[38;5;124mtext-composition\u001b[39m\u001b[38;5;124m'\u001b[39m}))\n\u001b[0;32m     33\u001b[0m \u001b[38;5;28;01mfor\u001b[39;00m elm \u001b[38;5;129;01min\u001b[39;00m original\u001b[38;5;241m.\u001b[39mfind_all(\u001b[38;5;124m'\u001b[39m\u001b[38;5;124mspan\u001b[39m\u001b[38;5;124m'\u001b[39m, style\u001b[38;5;241m=\u001b[39mre\u001b[38;5;241m.\u001b[39mcompile(\u001b[38;5;124mr\u001b[39m\u001b[38;5;124m\"\u001b[39m\u001b[38;5;124mcolor:#00b050\u001b[39m\u001b[38;5;124m\"\u001b[39m)):\n",
      "\u001b[1;31mAttributeError\u001b[0m: 'NoneType' object has no attribute 'find'"
     ]
    }
   ],
   "source": [
    "import re\n",
    "import copy\n",
    "import os\n",
    "\n",
    "for link, prompt_number in zip(links, range(len(links))):\n",
    "    driver.get(link)\n",
    "    sleep(2)\n",
    "    content = driver.page_source\n",
    "    soup = BeautifulSoup(content)\n",
    "    \n",
    "    #Title and essay prompt\n",
    "    title = soup.find('i', attrs={'class':'custom-title'}).text.strip()\n",
    "    prompt = soup.find('div', attrs={'class':'text'}).text.strip()\n",
    "    \n",
    "    os.makedirs('prompts/prompt'+str(prompt_number)+'/essays/', exist_ok=True)\n",
    "    with open('prompts/prompt'+str(prompt_number)+'/prompt.txt', 'w') as file:\n",
    "        file.write(title + \"\\n\\n\")\n",
    "        file.write(prompt)\n",
    "\n",
    "    # Gets all essays\n",
    "    list_of_links = soup.find('article', attrs={'class':'rt-body'}).findAll('a')\n",
    "    links_to_essays = []\n",
    "    for a in list_of_links:\n",
    "        links_to_essays.append(a['href'])\n",
    "\n",
    "    for essay, essay_number in zip(links_to_essays, range(len(links_to_essays))):\n",
    "        driver.get(essay)\n",
    "        content = driver.page_source\n",
    "        soup = BeautifulSoup(content)\n",
    "        composition = soup.find('div', attrs={'class':'container-composition'})\n",
    "        title = composition.find('h2').text\n",
    "        original = copy.copy(composition.find('div', attrs={'class':'text-composition'}))\n",
    "        for elm in original.find_all('span', style=re.compile(r\"color:#00b050\")):\n",
    "            elm.string = \"\"\n",
    "\n",
    "        corrected = copy.copy(composition.find('div', attrs={'class':'text-composition'}))\n",
    "        for elm in corrected.find_all('strong'):\n",
    "            elm.string = \"\"\n",
    "        \n",
    "        results_table = soup.find(\"section\", attrs={'class':'results-table'})\n",
    "        topics = [topic.text for topic in results_table.findAll('span', attrs={'class':'topic'})]\n",
    "        points = [int(points.text) for points in results_table.findAll('span', attrs={'class':'points'})]\n",
    "        df=pd.DataFrame({'Topics':topics, 'Points': points})\n",
    "        \n",
    "        with open('prompts/prompt'+str(prompt_number)+'/essays/essay'+str(essay_number)+'_original.txt', 'w', encoding='utf-8') as file:\n",
    "            file.write(title + \"\\n\\n\")\n",
    "            file.write(original.text + \"\\n\\n\")\n",
    "        \n",
    "        with open('prompts/prompt'+str(prompt_number)+'/essays/essay'+str(essay_number)+'_corrected.txt', 'w', encoding='utf-8') as file:\n",
    "            file.write(title + \"\\n\\n\")\n",
    "            file.write(corrected.text + \"\\n\\n\")\n",
    "        df.to_csv('prompts/prompt'+str(prompt_number)+'/essays/essay'+str(essay_number)+'_mark.csv', index=False)\n",
    "            "
   ]
  },
  {
   "cell_type": "code",
   "execution_count": null,
   "id": "8407993a",
   "metadata": {},
   "outputs": [],
   "source": []
  },
  {
   "cell_type": "code",
   "execution_count": null,
   "id": "b130535c",
   "metadata": {},
   "outputs": [],
   "source": []
  },
  {
   "cell_type": "code",
   "execution_count": null,
   "id": "952057ba",
   "metadata": {},
   "outputs": [],
   "source": []
  },
  {
   "cell_type": "code",
   "execution_count": null,
   "id": "ce58634c",
   "metadata": {},
   "outputs": [],
   "source": []
  }
 ],
 "metadata": {
  "kernelspec": {
   "display_name": "Python 3 (ipykernel)",
   "language": "python",
   "name": "python3"
  },
  "language_info": {
   "codemirror_mode": {
    "name": "ipython",
    "version": 3
   },
   "file_extension": ".py",
   "mimetype": "text/x-python",
   "name": "python",
   "nbconvert_exporter": "python",
   "pygments_lexer": "ipython3",
   "version": "3.9.0"
  }
 },
 "nbformat": 4,
 "nbformat_minor": 5
}
